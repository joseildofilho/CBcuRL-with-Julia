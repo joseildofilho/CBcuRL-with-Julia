{
 "cells": [
  {
   "cell_type": "code",
   "execution_count": 57,
   "metadata": {
    "scrolled": false
   },
   "outputs": [
    {
     "data": {
      "text/plain": [
       "get_state (generic function with 1 method)"
      ]
     },
     "execution_count": 57,
     "metadata": {},
     "output_type": "execute_result"
    }
   ],
   "source": [
    "include(\"experiment_1.jl\")"
   ]
  },
  {
   "cell_type": "code",
   "execution_count": 58,
   "metadata": {},
   "outputs": [
    {
     "data": {
      "text/plain": [
       "(Experiment(Any[], Any[]), step!)"
      ]
     },
     "execution_count": 58,
     "metadata": {},
     "output_type": "execute_result"
    }
   ],
   "source": [
    "exp, step! = build_experiment()"
   ]
  },
  {
   "cell_type": "code",
   "execution_count": 59,
   "metadata": {},
   "outputs": [
    {
     "data": {
      "text/plain": [
       "Experiment(Any[[10000.0, 100000.0, 100.0, 0.0], [10011.553604981478, 100289.09075560005, 99.94314769597065, 0.001731542187896872], [10127.826376843199, 103226.36467679133, 99.37642630729682, 0.018992091420136775], [10908.44876441905, 124281.81567372117, 95.80934153073213, 0.12763426260331712], [12469.518977319516, 173629.8938072347, 89.70868104672766, 0.313441170202949], [14694.808094155826, 261764.16900713212, 82.75576373466092, 0.5252051309257078], [18011.298698066053, 435374.4807179306, 74.89450810462236, 0.7646342014616072], [22853.41527280716, 789546.3965163247, 66.6569051026265, 1.0155255936970362], [30043.773024221013, 1.5645310947352874e6, 58.32751541462333, 1.2692124385580295], [40798.36505496753, 3.362021808558272e6, 50.26569257663875, 1.5147498426500432], [57118.85718476262, 7.797111683916659e6, 42.71410320349589, 1.744746634047903], [82214.76352477379, 1.937959331684675e7, 35.85266903732791, 1.953722095484472], [121348.81696068734, 5.129037207488239e7, 29.775958432860612, 2.1387934376967337], [183185.96158489326, 1.4359657697670063e8, 24.513816511148278, 2.2990439669599283], [282128.72808295843, 4.2265565412680817e8, 20.04430708850903, 2.435117490786721], [442276.57431282377, 1.3003043680534148e9, 16.311078647920933, 2.548651099493901], [704222.8340531557, 4.159235497480191e9, 13.2375600523673, 2.641711006199674], [1.1367349391665973e6, 1.376576869296431e10, 10.738517517320712, 2.7159765633464494], [1.4840977455000356e6, 2.681079352180799e10, 9.585372740403187, 2.7485890630138607]], Any[0.0, 0.0011546947689231193, 0.012701642458154312, 0.0869526032207836, 0.22070233087968633, 0.3849095824404566, 0.5884148737856181, 0.8265165254544492, 1.100071828373725, 1.4060590106123174, 1.7425520866805722, 2.106753676468059, 2.4960892836406874, 2.907923627311216, 3.3397874596702994, 3.7893622584177646, 4.254525275537163, 4.733350351807612, 5.0])"
      ]
     },
     "execution_count": 59,
     "metadata": {},
     "output_type": "execute_result"
    }
   ],
   "source": [
    "step!()"
   ]
  },
  {
   "cell_type": "code",
   "execution_count": 60,
   "metadata": {},
   "outputs": [
    {
     "data": {
      "text/plain": [
       "2-element Array{Float64,1}:\n",
       "     1.0\n",
       " 26810.0"
      ]
     },
     "execution_count": 60,
     "metadata": {},
     "output_type": "execute_result"
    }
   ],
   "source": [
    "exp |> get_state"
   ]
  },
  {
   "cell_type": "code",
   "execution_count": 56,
   "metadata": {},
   "outputs": [
    {
     "data": {
      "text/plain": [
       "2-element Array{Float64,1}:\n",
       "     1.0\n",
       " 26810.0"
      ]
     },
     "execution_count": 56,
     "metadata": {},
     "output_type": "execute_result"
    }
   ],
   "source": [
    "div.(exp.U[end][1:2], 1e6)"
   ]
  },
  {
   "cell_type": "code",
   "execution_count": 251,
   "metadata": {
    "scrolled": false
   },
   "outputs": [
    {
     "data": {
      "image/svg+xml": [
       "<?xml version=\"1.0\" encoding=\"utf-8\"?>\n",
       "<svg xmlns=\"http://www.w3.org/2000/svg\" xmlns:xlink=\"http://www.w3.org/1999/xlink\" width=\"600\" height=\"400\" viewBox=\"0 0 2400 1600\">\n",
       "<defs>\n",
       "  <clipPath id=\"clip1000\">\n",
       "    <rect x=\"0\" y=\"0\" width=\"2400\" height=\"1600\"/>\n",
       "  </clipPath>\n",
       "</defs>\n",
       "<polygon clip-path=\"url(#clip1000)\" points=\"\n",
       "0,1600 2400,1600 2400,0 0,0 \n",
       "  \" fill=\"#ffffff\" fill-rule=\"evenodd\" fill-opacity=\"1\"/>\n",
       "<defs>\n",
       "  <clipPath id=\"clip1001\">\n",
       "    <rect x=\"480\" y=\"0\" width=\"1681\" height=\"1600\"/>\n",
       "  </clipPath>\n",
       "</defs>\n",
       "<polygon clip-path=\"url(#clip1000)\" points=\"\n",
       "309.851,1487.47 2352.76,1487.47 2352.76,47.2441 309.851,47.2441 \n",
       "  \" fill=\"#ffffff\" fill-rule=\"evenodd\" fill-opacity=\"1\"/>\n",
       "<defs>\n",
       "  <clipPath id=\"clip1002\">\n",
       "    <rect x=\"309\" y=\"47\" width=\"2044\" height=\"1441\"/>\n",
       "  </clipPath>\n",
       "</defs>\n",
       "<polyline clip-path=\"url(#clip1002)\" style=\"stroke:#000000; stroke-width:2; stroke-opacity:0.1; fill:none\" points=\"\n",
       "  367.669,1487.47 367.669,47.2441 \n",
       "  \"/>\n",
       "<polyline clip-path=\"url(#clip1002)\" style=\"stroke:#000000; stroke-width:2; stroke-opacity:0.1; fill:none\" points=\"\n",
       "  753.123,1487.47 753.123,47.2441 \n",
       "  \"/>\n",
       "<polyline clip-path=\"url(#clip1002)\" style=\"stroke:#000000; stroke-width:2; stroke-opacity:0.1; fill:none\" points=\"\n",
       "  1138.58,1487.47 1138.58,47.2441 \n",
       "  \"/>\n",
       "<polyline clip-path=\"url(#clip1002)\" style=\"stroke:#000000; stroke-width:2; stroke-opacity:0.1; fill:none\" points=\"\n",
       "  1524.03,1487.47 1524.03,47.2441 \n",
       "  \"/>\n",
       "<polyline clip-path=\"url(#clip1002)\" style=\"stroke:#000000; stroke-width:2; stroke-opacity:0.1; fill:none\" points=\"\n",
       "  1909.48,1487.47 1909.48,47.2441 \n",
       "  \"/>\n",
       "<polyline clip-path=\"url(#clip1002)\" style=\"stroke:#000000; stroke-width:2; stroke-opacity:0.1; fill:none\" points=\"\n",
       "  2294.94,1487.47 2294.94,47.2441 \n",
       "  \"/>\n",
       "<polyline clip-path=\"url(#clip1002)\" style=\"stroke:#000000; stroke-width:2; stroke-opacity:0.1; fill:none\" points=\"\n",
       "  309.851,1446.71 2352.76,1446.71 \n",
       "  \"/>\n",
       "<polyline clip-path=\"url(#clip1002)\" style=\"stroke:#000000; stroke-width:2; stroke-opacity:0.1; fill:none\" points=\"\n",
       "  309.851,1193.33 2352.76,1193.33 \n",
       "  \"/>\n",
       "<polyline clip-path=\"url(#clip1002)\" style=\"stroke:#000000; stroke-width:2; stroke-opacity:0.1; fill:none\" points=\"\n",
       "  309.851,939.937 2352.76,939.937 \n",
       "  \"/>\n",
       "<polyline clip-path=\"url(#clip1002)\" style=\"stroke:#000000; stroke-width:2; stroke-opacity:0.1; fill:none\" points=\"\n",
       "  309.851,686.549 2352.76,686.549 \n",
       "  \"/>\n",
       "<polyline clip-path=\"url(#clip1002)\" style=\"stroke:#000000; stroke-width:2; stroke-opacity:0.1; fill:none\" points=\"\n",
       "  309.851,433.16 2352.76,433.16 \n",
       "  \"/>\n",
       "<polyline clip-path=\"url(#clip1002)\" style=\"stroke:#000000; stroke-width:2; stroke-opacity:0.1; fill:none\" points=\"\n",
       "  309.851,179.772 2352.76,179.772 \n",
       "  \"/>\n",
       "<polyline clip-path=\"url(#clip1000)\" style=\"stroke:#000000; stroke-width:4; stroke-opacity:1; fill:none\" points=\"\n",
       "  309.851,1487.47 2352.76,1487.47 \n",
       "  \"/>\n",
       "<polyline clip-path=\"url(#clip1000)\" style=\"stroke:#000000; stroke-width:4; stroke-opacity:1; fill:none\" points=\"\n",
       "  309.851,1487.47 309.851,47.2441 \n",
       "  \"/>\n",
       "<polyline clip-path=\"url(#clip1000)\" style=\"stroke:#000000; stroke-width:4; stroke-opacity:1; fill:none\" points=\"\n",
       "  367.669,1487.47 367.669,1465.87 \n",
       "  \"/>\n",
       "<polyline clip-path=\"url(#clip1000)\" style=\"stroke:#000000; stroke-width:4; stroke-opacity:1; fill:none\" points=\"\n",
       "  753.123,1487.47 753.123,1465.87 \n",
       "  \"/>\n",
       "<polyline clip-path=\"url(#clip1000)\" style=\"stroke:#000000; stroke-width:4; stroke-opacity:1; fill:none\" points=\"\n",
       "  1138.58,1487.47 1138.58,1465.87 \n",
       "  \"/>\n",
       "<polyline clip-path=\"url(#clip1000)\" style=\"stroke:#000000; stroke-width:4; stroke-opacity:1; fill:none\" points=\"\n",
       "  1524.03,1487.47 1524.03,1465.87 \n",
       "  \"/>\n",
       "<polyline clip-path=\"url(#clip1000)\" style=\"stroke:#000000; stroke-width:4; stroke-opacity:1; fill:none\" points=\"\n",
       "  1909.48,1487.47 1909.48,1465.87 \n",
       "  \"/>\n",
       "<polyline clip-path=\"url(#clip1000)\" style=\"stroke:#000000; stroke-width:4; stroke-opacity:1; fill:none\" points=\"\n",
       "  2294.94,1487.47 2294.94,1465.87 \n",
       "  \"/>\n",
       "<polyline clip-path=\"url(#clip1000)\" style=\"stroke:#000000; stroke-width:4; stroke-opacity:1; fill:none\" points=\"\n",
       "  309.851,1446.71 340.495,1446.71 \n",
       "  \"/>\n",
       "<polyline clip-path=\"url(#clip1000)\" style=\"stroke:#000000; stroke-width:4; stroke-opacity:1; fill:none\" points=\"\n",
       "  309.851,1193.33 340.495,1193.33 \n",
       "  \"/>\n",
       "<polyline clip-path=\"url(#clip1000)\" style=\"stroke:#000000; stroke-width:4; stroke-opacity:1; fill:none\" points=\"\n",
       "  309.851,939.937 340.495,939.937 \n",
       "  \"/>\n",
       "<polyline clip-path=\"url(#clip1000)\" style=\"stroke:#000000; stroke-width:4; stroke-opacity:1; fill:none\" points=\"\n",
       "  309.851,686.549 340.495,686.549 \n",
       "  \"/>\n",
       "<polyline clip-path=\"url(#clip1000)\" style=\"stroke:#000000; stroke-width:4; stroke-opacity:1; fill:none\" points=\"\n",
       "  309.851,433.16 340.495,433.16 \n",
       "  \"/>\n",
       "<polyline clip-path=\"url(#clip1000)\" style=\"stroke:#000000; stroke-width:4; stroke-opacity:1; fill:none\" points=\"\n",
       "  309.851,179.772 340.495,179.772 \n",
       "  \"/>\n",
       "<g clip-path=\"url(#clip1000)\">\n",
       "<text style=\"fill:#000000; fill-opacity:1; font-family:Arial,Helvetica Neue,Helvetica,sans-serif; font-size:48px; text-anchor:middle;\" transform=\"rotate(0, 367.669, 1541.47)\" x=\"367.669\" y=\"1541.47\">0</text>\n",
       "</g>\n",
       "<g clip-path=\"url(#clip1000)\">\n",
       "<text style=\"fill:#000000; fill-opacity:1; font-family:Arial,Helvetica Neue,Helvetica,sans-serif; font-size:48px; text-anchor:middle;\" transform=\"rotate(0, 753.123, 1541.47)\" x=\"753.123\" y=\"1541.47\">1</text>\n",
       "</g>\n",
       "<g clip-path=\"url(#clip1000)\">\n",
       "<text style=\"fill:#000000; fill-opacity:1; font-family:Arial,Helvetica Neue,Helvetica,sans-serif; font-size:48px; text-anchor:middle;\" transform=\"rotate(0, 1138.58, 1541.47)\" x=\"1138.58\" y=\"1541.47\">2</text>\n",
       "</g>\n",
       "<g clip-path=\"url(#clip1000)\">\n",
       "<text style=\"fill:#000000; fill-opacity:1; font-family:Arial,Helvetica Neue,Helvetica,sans-serif; font-size:48px; text-anchor:middle;\" transform=\"rotate(0, 1524.03, 1541.47)\" x=\"1524.03\" y=\"1541.47\">3</text>\n",
       "</g>\n",
       "<g clip-path=\"url(#clip1000)\">\n",
       "<text style=\"fill:#000000; fill-opacity:1; font-family:Arial,Helvetica Neue,Helvetica,sans-serif; font-size:48px; text-anchor:middle;\" transform=\"rotate(0, 1909.48, 1541.47)\" x=\"1909.48\" y=\"1541.47\">4</text>\n",
       "</g>\n",
       "<g clip-path=\"url(#clip1000)\">\n",
       "<text style=\"fill:#000000; fill-opacity:1; font-family:Arial,Helvetica Neue,Helvetica,sans-serif; font-size:48px; text-anchor:middle;\" transform=\"rotate(0, 2294.94, 1541.47)\" x=\"2294.94\" y=\"1541.47\">5</text>\n",
       "</g>\n",
       "<g clip-path=\"url(#clip1000)\">\n",
       "<text style=\"fill:#000000; fill-opacity:1; font-family:Arial,Helvetica Neue,Helvetica,sans-serif; font-size:48px; text-anchor:end;\" transform=\"rotate(0, 285.851, 1464.21)\" x=\"285.851\" y=\"1464.21\">0</text>\n",
       "</g>\n",
       "<g clip-path=\"url(#clip1000)\">\n",
       "<text style=\"fill:#000000; fill-opacity:1; font-family:Arial,Helvetica Neue,Helvetica,sans-serif; font-size:48px; text-anchor:start;\" transform=\"rotate(0, 115.566, 1217.05)\" x=\"115.566\" y=\"1217.05\">5.0×10</text>\n",
       "</g>\n",
       "<g clip-path=\"url(#clip1000)\">\n",
       "<text style=\"fill:#000000; fill-opacity:1; font-family:Arial,Helvetica Neue,Helvetica,sans-serif; font-size:38px; text-anchor:start;\" transform=\"rotate(0, 264.107, 1189.64)\" x=\"264.107\" y=\"1189.64\">9</text>\n",
       "</g>\n",
       "<g clip-path=\"url(#clip1000)\">\n",
       "<text style=\"fill:#000000; fill-opacity:1; font-family:Arial,Helvetica Neue,Helvetica,sans-serif; font-size:48px; text-anchor:start;\" transform=\"rotate(0, 93.8218, 963.665)\" x=\"93.8218\" y=\"963.665\">1.0×10</text>\n",
       "</g>\n",
       "<g clip-path=\"url(#clip1000)\">\n",
       "<text style=\"fill:#000000; fill-opacity:1; font-family:Arial,Helvetica Neue,Helvetica,sans-serif; font-size:38px; text-anchor:start;\" transform=\"rotate(0, 242.362, 936.254)\" x=\"242.362\" y=\"936.254\">10</text>\n",
       "</g>\n",
       "<g clip-path=\"url(#clip1000)\">\n",
       "<text style=\"fill:#000000; fill-opacity:1; font-family:Arial,Helvetica Neue,Helvetica,sans-serif; font-size:48px; text-anchor:start;\" transform=\"rotate(0, 93.8218, 710.276)\" x=\"93.8218\" y=\"710.276\">1.5×10</text>\n",
       "</g>\n",
       "<g clip-path=\"url(#clip1000)\">\n",
       "<text style=\"fill:#000000; fill-opacity:1; font-family:Arial,Helvetica Neue,Helvetica,sans-serif; font-size:38px; text-anchor:start;\" transform=\"rotate(0, 242.362, 682.866)\" x=\"242.362\" y=\"682.866\">10</text>\n",
       "</g>\n",
       "<g clip-path=\"url(#clip1000)\">\n",
       "<text style=\"fill:#000000; fill-opacity:1; font-family:Arial,Helvetica Neue,Helvetica,sans-serif; font-size:48px; text-anchor:start;\" transform=\"rotate(0, 93.8218, 456.888)\" x=\"93.8218\" y=\"456.888\">2.0×10</text>\n",
       "</g>\n",
       "<g clip-path=\"url(#clip1000)\">\n",
       "<text style=\"fill:#000000; fill-opacity:1; font-family:Arial,Helvetica Neue,Helvetica,sans-serif; font-size:38px; text-anchor:start;\" transform=\"rotate(0, 242.362, 429.478)\" x=\"242.362\" y=\"429.478\">10</text>\n",
       "</g>\n",
       "<g clip-path=\"url(#clip1000)\">\n",
       "<text style=\"fill:#000000; fill-opacity:1; font-family:Arial,Helvetica Neue,Helvetica,sans-serif; font-size:48px; text-anchor:start;\" transform=\"rotate(0, 93.8218, 203.5)\" x=\"93.8218\" y=\"203.5\">2.5×10</text>\n",
       "</g>\n",
       "<g clip-path=\"url(#clip1000)\">\n",
       "<text style=\"fill:#000000; fill-opacity:1; font-family:Arial,Helvetica Neue,Helvetica,sans-serif; font-size:38px; text-anchor:start;\" transform=\"rotate(0, 242.362, 176.089)\" x=\"242.362\" y=\"176.089\">10</text>\n",
       "</g>\n",
       "<polyline clip-path=\"url(#clip1002)\" style=\"stroke:#009af9; stroke-width:4; stroke-opacity:1; fill:none\" points=\"\n",
       "  367.669,1446.71 368.114,1446.71 372.565,1446.71 401.185,1446.71 452.74,1446.71 516.034,1446.71 594.476,1446.71 686.253,1446.71 791.696,1446.71 909.64,1446.71 \n",
       "  1039.34,1446.71 1179.73,1446.71 1329.8,1446.71 1488.54,1446.7 1655,1446.7 1828.29,1446.69 2007.59,1446.68 2192.16,1446.66 2294.94,1446.64 \n",
       "  \"/>\n",
       "<polyline clip-path=\"url(#clip1002)\" style=\"stroke:#e26f46; stroke-width:4; stroke-opacity:1; fill:none\" points=\"\n",
       "  367.669,1446.71 368.114,1446.71 372.565,1446.71 401.185,1446.71 452.74,1446.7 516.034,1446.7 594.476,1446.69 686.253,1446.67 791.696,1446.63 909.64,1446.54 \n",
       "  1039.34,1446.32 1179.73,1445.73 1329.8,1444.11 1488.54,1439.44 1655,1425.29 1828.29,1380.82 2007.59,1235.93 2192.16,749.097 2294.94,88.0053 \n",
       "  \"/>\n",
       "<polyline clip-path=\"url(#clip1002)\" style=\"stroke:#3da44d; stroke-width:4; stroke-opacity:1; fill:none\" points=\"\n",
       "  367.669,1446.71 368.114,1446.71 372.565,1446.71 401.185,1446.71 452.74,1446.71 516.034,1446.71 594.476,1446.71 686.253,1446.71 791.696,1446.71 909.64,1446.71 \n",
       "  1039.34,1446.71 1179.73,1446.71 1329.8,1446.71 1488.54,1446.71 1655,1446.71 1828.29,1446.71 2007.59,1446.71 2192.16,1446.71 2294.94,1446.71 \n",
       "  \"/>\n",
       "<polyline clip-path=\"url(#clip1002)\" style=\"stroke:#c271d2; stroke-width:4; stroke-opacity:1; fill:none\" points=\"\n",
       "  367.669,1446.71 368.114,1446.71 372.565,1446.71 401.185,1446.71 452.74,1446.71 516.034,1446.71 594.476,1446.71 686.253,1446.71 791.696,1446.71 909.64,1446.71 \n",
       "  1039.34,1446.71 1179.73,1446.71 1329.8,1446.71 1488.54,1446.71 1655,1446.71 1828.29,1446.71 2007.59,1446.71 2192.16,1446.71 2294.94,1446.71 \n",
       "  \"/>\n",
       "<polygon clip-path=\"url(#clip1000)\" points=\"\n",
       "1989.93,433.164 2280.76,433.164 2280.76,130.764 1989.93,130.764 \n",
       "  \" fill=\"#ffffff\" fill-rule=\"evenodd\" fill-opacity=\"1\"/>\n",
       "<polyline clip-path=\"url(#clip1000)\" style=\"stroke:#000000; stroke-width:4; stroke-opacity:1; fill:none\" points=\"\n",
       "  1989.93,433.164 2280.76,433.164 2280.76,130.764 1989.93,130.764 1989.93,433.164 \n",
       "  \"/>\n",
       "<polyline clip-path=\"url(#clip1000)\" style=\"stroke:#009af9; stroke-width:4; stroke-opacity:1; fill:none\" points=\"\n",
       "  2013.93,191.244 2157.93,191.244 \n",
       "  \"/>\n",
       "<g clip-path=\"url(#clip1000)\">\n",
       "<text style=\"fill:#000000; fill-opacity:1; font-family:Arial,Helvetica Neue,Helvetica,sans-serif; font-size:48px; text-anchor:start;\" transform=\"rotate(0, 2181.93, 208.744)\" x=\"2181.93\" y=\"208.744\">y1</text>\n",
       "</g>\n",
       "<polyline clip-path=\"url(#clip1000)\" style=\"stroke:#e26f46; stroke-width:4; stroke-opacity:1; fill:none\" points=\"\n",
       "  2013.93,251.724 2157.93,251.724 \n",
       "  \"/>\n",
       "<g clip-path=\"url(#clip1000)\">\n",
       "<text style=\"fill:#000000; fill-opacity:1; font-family:Arial,Helvetica Neue,Helvetica,sans-serif; font-size:48px; text-anchor:start;\" transform=\"rotate(0, 2181.93, 269.224)\" x=\"2181.93\" y=\"269.224\">y2</text>\n",
       "</g>\n",
       "<polyline clip-path=\"url(#clip1000)\" style=\"stroke:#3da44d; stroke-width:4; stroke-opacity:1; fill:none\" points=\"\n",
       "  2013.93,312.204 2157.93,312.204 \n",
       "  \"/>\n",
       "<g clip-path=\"url(#clip1000)\">\n",
       "<text style=\"fill:#000000; fill-opacity:1; font-family:Arial,Helvetica Neue,Helvetica,sans-serif; font-size:48px; text-anchor:start;\" transform=\"rotate(0, 2181.93, 329.704)\" x=\"2181.93\" y=\"329.704\">y3</text>\n",
       "</g>\n",
       "<polyline clip-path=\"url(#clip1000)\" style=\"stroke:#c271d2; stroke-width:4; stroke-opacity:1; fill:none\" points=\"\n",
       "  2013.93,372.684 2157.93,372.684 \n",
       "  \"/>\n",
       "<g clip-path=\"url(#clip1000)\">\n",
       "<text style=\"fill:#000000; fill-opacity:1; font-family:Arial,Helvetica Neue,Helvetica,sans-serif; font-size:48px; text-anchor:start;\" transform=\"rotate(0, 2181.93, 390.184)\" x=\"2181.93\" y=\"390.184\">y4</text>\n",
       "</g>\n",
       "</svg>\n"
      ]
     },
     "execution_count": 251,
     "metadata": {},
     "output_type": "execute_result"
    }
   ],
   "source": [
    "plot(exp)"
   ]
  },
  {
   "cell_type": "code",
   "execution_count": 276,
   "metadata": {},
   "outputs": [
    {
     "data": {
      "text/plain": [
       "Experiment(Any[[10000.0, 100000.0, 100.0, 0.0], [10011.553604981478, 100289.09075560005, 99.94314769597065, 0.001731542187896872], [10127.826376843199, 103226.36467679133, 99.37642630729682, 0.018992091420136775], [10908.44876441905, 124281.81567372117, 95.80934153073213, 0.12763426260331712], [12469.518977319516, 173629.8938072347, 89.70868104672766, 0.313441170202949], [14694.808094155826, 261764.16900713212, 82.75576373466092, 0.5252051309257078], [18011.298698066053, 435374.4807179306, 74.89450810462236, 0.7646342014616072], [22853.41527280716, 789546.3965163247, 66.6569051026265, 1.0155255936970362], [30043.773024221013, 1.5645310947352874e6, 58.32751541462333, 1.2692124385580295], [40798.36505496753, 3.362021808558272e6, 50.26569257663875, 1.5147498426500432]  …  [1.6486126705635904e11, 1.102723435438623e23, 1.4899062177403681, -2.1206219909281944e10], [2.3075276773430002e11, 2.5559548597790485e23, 1.4724255688804992, -4.9152978069674614e10], [3.302767520222892e11, 6.264607485434222e23, 1.4483265092109099, -1.2047322087073563e11], [4.8219971675820844e11, 1.613523428218764e24, 1.4137219332211888, -3.102929669621476e11], [7.164658312362329e11, 4.3421122634928375e24, 1.362369291013851, -8.350215891302386e11], [1.0810620175231185e12, 1.2143352180678554e25, 1.2842489089731173, -2.335260034742877e12], [1.6532803399815186e12, 3.5121588717273485e25, 1.1632243555648494, -6.754151676395753e12], [2.5581191097575737e12, 1.0459343353846275e26, 0.9732146162384876, -2.011412183431677e13], [3.998458105138242e12, 3.194740840019023e26, 0.6719117747564418, -6.143732384651676e13], [4.847408783804453e12, 5.170291715349307e26, 0.4945950643342023, -9.942868683363761e13]], Any[0.0, 0.0011546947689231193, 0.012701642458154312, 0.0869526032207836, 0.22070233087968633, 0.3849095824404566, 0.5884148737856181, 0.8265165254544492, 1.100071828373725, 1.4060590106123174  …  16.618599923486343, 16.954865811185776, 17.313475140939367, 17.691929784706296, 18.0879313314879, 18.499331968056186, 18.92418519192324, 19.360738081406424, 19.80743052362035, 20.0])"
      ]
     },
     "execution_count": 276,
     "metadata": {},
     "output_type": "execute_result"
    }
   ],
   "source": [
    "exp"
   ]
  },
  {
   "cell_type": "code",
   "execution_count": 222,
   "metadata": {},
   "outputs": [
    {
     "data": {
      "image/svg+xml": [
       "<?xml version=\"1.0\" encoding=\"utf-8\"?>\n",
       "<svg xmlns=\"http://www.w3.org/2000/svg\" xmlns:xlink=\"http://www.w3.org/1999/xlink\" width=\"600\" height=\"400\" viewBox=\"0 0 2400 1600\">\n",
       "<defs>\n",
       "  <clipPath id=\"clip9800\">\n",
       "    <rect x=\"0\" y=\"0\" width=\"2400\" height=\"1600\"/>\n",
       "  </clipPath>\n",
       "</defs>\n",
       "<polygon clip-path=\"url(#clip9800)\" points=\"\n",
       "0,1600 2400,1600 2400,0 0,0 \n",
       "  \" fill=\"#ffffff\" fill-rule=\"evenodd\" fill-opacity=\"1\"/>\n",
       "<defs>\n",
       "  <clipPath id=\"clip9801\">\n",
       "    <rect x=\"480\" y=\"0\" width=\"1681\" height=\"1600\"/>\n",
       "  </clipPath>\n",
       "</defs>\n",
       "<polygon clip-path=\"url(#clip9800)\" points=\"\n",
       "277.217,1487.47 2352.76,1487.47 2352.76,47.2441 277.217,47.2441 \n",
       "  \" fill=\"#ffffff\" fill-rule=\"evenodd\" fill-opacity=\"1\"/>\n",
       "<defs>\n",
       "  <clipPath id=\"clip9802\">\n",
       "    <rect x=\"277\" y=\"47\" width=\"2077\" height=\"1441\"/>\n",
       "  </clipPath>\n",
       "</defs>\n",
       "<polyline clip-path=\"url(#clip9802)\" style=\"stroke:#000000; stroke-width:2; stroke-opacity:0.1; fill:none\" points=\"\n",
       "  335.958,1487.47 335.958,47.2441 \n",
       "  \"/>\n",
       "<polyline clip-path=\"url(#clip9802)\" style=\"stroke:#000000; stroke-width:2; stroke-opacity:0.1; fill:none\" points=\"\n",
       "  825.472,1487.47 825.472,47.2441 \n",
       "  \"/>\n",
       "<polyline clip-path=\"url(#clip9802)\" style=\"stroke:#000000; stroke-width:2; stroke-opacity:0.1; fill:none\" points=\"\n",
       "  1314.99,1487.47 1314.99,47.2441 \n",
       "  \"/>\n",
       "<polyline clip-path=\"url(#clip9802)\" style=\"stroke:#000000; stroke-width:2; stroke-opacity:0.1; fill:none\" points=\"\n",
       "  1804.5,1487.47 1804.5,47.2441 \n",
       "  \"/>\n",
       "<polyline clip-path=\"url(#clip9802)\" style=\"stroke:#000000; stroke-width:2; stroke-opacity:0.1; fill:none\" points=\"\n",
       "  2294.01,1487.47 2294.01,47.2441 \n",
       "  \"/>\n",
       "<polyline clip-path=\"url(#clip9802)\" style=\"stroke:#000000; stroke-width:2; stroke-opacity:0.1; fill:none\" points=\"\n",
       "  277.217,1446.71 2352.76,1446.71 \n",
       "  \"/>\n",
       "<polyline clip-path=\"url(#clip9802)\" style=\"stroke:#000000; stroke-width:2; stroke-opacity:0.1; fill:none\" points=\"\n",
       "  277.217,1068.74 2352.76,1068.74 \n",
       "  \"/>\n",
       "<polyline clip-path=\"url(#clip9802)\" style=\"stroke:#000000; stroke-width:2; stroke-opacity:0.1; fill:none\" points=\"\n",
       "  277.217,690.767 2352.76,690.767 \n",
       "  \"/>\n",
       "<polyline clip-path=\"url(#clip9802)\" style=\"stroke:#000000; stroke-width:2; stroke-opacity:0.1; fill:none\" points=\"\n",
       "  277.217,312.794 2352.76,312.794 \n",
       "  \"/>\n",
       "<polyline clip-path=\"url(#clip9800)\" style=\"stroke:#000000; stroke-width:4; stroke-opacity:1; fill:none\" points=\"\n",
       "  277.217,1487.47 2352.76,1487.47 \n",
       "  \"/>\n",
       "<polyline clip-path=\"url(#clip9800)\" style=\"stroke:#000000; stroke-width:4; stroke-opacity:1; fill:none\" points=\"\n",
       "  277.217,1487.47 277.217,47.2441 \n",
       "  \"/>\n",
       "<polyline clip-path=\"url(#clip9800)\" style=\"stroke:#000000; stroke-width:4; stroke-opacity:1; fill:none\" points=\"\n",
       "  335.958,1487.47 335.958,1465.87 \n",
       "  \"/>\n",
       "<polyline clip-path=\"url(#clip9800)\" style=\"stroke:#000000; stroke-width:4; stroke-opacity:1; fill:none\" points=\"\n",
       "  825.472,1487.47 825.472,1465.87 \n",
       "  \"/>\n",
       "<polyline clip-path=\"url(#clip9800)\" style=\"stroke:#000000; stroke-width:4; stroke-opacity:1; fill:none\" points=\"\n",
       "  1314.99,1487.47 1314.99,1465.87 \n",
       "  \"/>\n",
       "<polyline clip-path=\"url(#clip9800)\" style=\"stroke:#000000; stroke-width:4; stroke-opacity:1; fill:none\" points=\"\n",
       "  1804.5,1487.47 1804.5,1465.87 \n",
       "  \"/>\n",
       "<polyline clip-path=\"url(#clip9800)\" style=\"stroke:#000000; stroke-width:4; stroke-opacity:1; fill:none\" points=\"\n",
       "  2294.01,1487.47 2294.01,1465.87 \n",
       "  \"/>\n",
       "<polyline clip-path=\"url(#clip9800)\" style=\"stroke:#000000; stroke-width:4; stroke-opacity:1; fill:none\" points=\"\n",
       "  277.217,1446.71 308.35,1446.71 \n",
       "  \"/>\n",
       "<polyline clip-path=\"url(#clip9800)\" style=\"stroke:#000000; stroke-width:4; stroke-opacity:1; fill:none\" points=\"\n",
       "  277.217,1068.74 308.35,1068.74 \n",
       "  \"/>\n",
       "<polyline clip-path=\"url(#clip9800)\" style=\"stroke:#000000; stroke-width:4; stroke-opacity:1; fill:none\" points=\"\n",
       "  277.217,690.767 308.35,690.767 \n",
       "  \"/>\n",
       "<polyline clip-path=\"url(#clip9800)\" style=\"stroke:#000000; stroke-width:4; stroke-opacity:1; fill:none\" points=\"\n",
       "  277.217,312.794 308.35,312.794 \n",
       "  \"/>\n",
       "<g clip-path=\"url(#clip9800)\">\n",
       "<text style=\"fill:#000000; fill-opacity:1; font-family:Arial,Helvetica Neue,Helvetica,sans-serif; font-size:48px; text-anchor:middle;\" transform=\"rotate(0, 335.958, 1541.47)\" x=\"335.958\" y=\"1541.47\">0.0</text>\n",
       "</g>\n",
       "<g clip-path=\"url(#clip9800)\">\n",
       "<text style=\"fill:#000000; fill-opacity:1; font-family:Arial,Helvetica Neue,Helvetica,sans-serif; font-size:48px; text-anchor:middle;\" transform=\"rotate(0, 825.472, 1541.47)\" x=\"825.472\" y=\"1541.47\">2.5</text>\n",
       "</g>\n",
       "<g clip-path=\"url(#clip9800)\">\n",
       "<text style=\"fill:#000000; fill-opacity:1; font-family:Arial,Helvetica Neue,Helvetica,sans-serif; font-size:48px; text-anchor:middle;\" transform=\"rotate(0, 1314.99, 1541.47)\" x=\"1314.99\" y=\"1541.47\">5.0</text>\n",
       "</g>\n",
       "<g clip-path=\"url(#clip9800)\">\n",
       "<text style=\"fill:#000000; fill-opacity:1; font-family:Arial,Helvetica Neue,Helvetica,sans-serif; font-size:48px; text-anchor:middle;\" transform=\"rotate(0, 1804.5, 1541.47)\" x=\"1804.5\" y=\"1541.47\">7.5</text>\n",
       "</g>\n",
       "<g clip-path=\"url(#clip9800)\">\n",
       "<text style=\"fill:#000000; fill-opacity:1; font-family:Arial,Helvetica Neue,Helvetica,sans-serif; font-size:48px; text-anchor:middle;\" transform=\"rotate(0, 2294.01, 1541.47)\" x=\"2294.01\" y=\"1541.47\">10.0</text>\n",
       "</g>\n",
       "<g clip-path=\"url(#clip9800)\">\n",
       "<text style=\"fill:#000000; fill-opacity:1; font-family:Arial,Helvetica Neue,Helvetica,sans-serif; font-size:48px; text-anchor:end;\" transform=\"rotate(0, 253.217, 1464.21)\" x=\"253.217\" y=\"1464.21\">0</text>\n",
       "</g>\n",
       "<g clip-path=\"url(#clip9800)\">\n",
       "<text style=\"fill:#000000; fill-opacity:1; font-family:Arial,Helvetica Neue,Helvetica,sans-serif; font-size:48px; text-anchor:start;\" transform=\"rotate(0, 101.331, 1092.47)\" x=\"101.331\" y=\"1092.47\">2×10</text>\n",
       "</g>\n",
       "<g clip-path=\"url(#clip9800)\">\n",
       "<text style=\"fill:#000000; fill-opacity:1; font-family:Arial,Helvetica Neue,Helvetica,sans-serif; font-size:38px; text-anchor:start;\" transform=\"rotate(0, 209.728, 1065.06)\" x=\"209.728\" y=\"1065.06\">15</text>\n",
       "</g>\n",
       "<g clip-path=\"url(#clip9800)\">\n",
       "<text style=\"fill:#000000; fill-opacity:1; font-family:Arial,Helvetica Neue,Helvetica,sans-serif; font-size:48px; text-anchor:start;\" transform=\"rotate(0, 101.331, 714.494)\" x=\"101.331\" y=\"714.494\">4×10</text>\n",
       "</g>\n",
       "<g clip-path=\"url(#clip9800)\">\n",
       "<text style=\"fill:#000000; fill-opacity:1; font-family:Arial,Helvetica Neue,Helvetica,sans-serif; font-size:38px; text-anchor:start;\" transform=\"rotate(0, 209.728, 687.084)\" x=\"209.728\" y=\"687.084\">15</text>\n",
       "</g>\n",
       "<g clip-path=\"url(#clip9800)\">\n",
       "<text style=\"fill:#000000; fill-opacity:1; font-family:Arial,Helvetica Neue,Helvetica,sans-serif; font-size:48px; text-anchor:start;\" transform=\"rotate(0, 101.331, 336.521)\" x=\"101.331\" y=\"336.521\">6×10</text>\n",
       "</g>\n",
       "<g clip-path=\"url(#clip9800)\">\n",
       "<text style=\"fill:#000000; fill-opacity:1; font-family:Arial,Helvetica Neue,Helvetica,sans-serif; font-size:38px; text-anchor:start;\" transform=\"rotate(0, 209.728, 309.111)\" x=\"209.728\" y=\"309.111\">15</text>\n",
       "</g>\n",
       "<polyline clip-path=\"url(#clip9802)\" style=\"stroke:#009af9; stroke-width:4; stroke-opacity:1; fill:none\" points=\"\n",
       "  335.958,1446.71 336.184,1446.71 338.445,1446.71 352.984,1446.71 379.173,1446.71 411.326,1446.71 451.173,1446.71 497.795,1446.71 551.358,1446.71 611.272,1446.71 \n",
       "  677.16,1446.71 748.472,1446.71 824.706,1446.71 905.346,1446.71 989.907,1446.71 1077.94,1446.71 1169.02,1446.71 1262.77,1446.71 1314.99,1446.71 \n",
       "  1330.54,1446.71 1357.32,1446.71 1389.74,1446.71 1430.05,1446.71 1477.02,1446.71 1530.96,1446.71 1591.2,1446.71 1657.38,1446.71 1728.86,1446.71 1804.54,1446.71 \n",
       "  1879.49,1446.71 1956.65,1446.71 2038.47,1446.71 2122.48,1446.71 2208.85,1446.71 2294.01,1446.71 \n",
       "  \"/>\n",
       "<polyline clip-path=\"url(#clip9802)\" style=\"stroke:#e26f46; stroke-width:4; stroke-opacity:1; fill:none\" points=\"\n",
       "  335.958,1446.71 336.184,1446.71 338.445,1446.71 352.984,1446.71 379.173,1446.71 411.326,1446.71 451.173,1446.71 497.795,1446.71 551.358,1446.71 611.272,1446.71 \n",
       "  677.16,1446.71 748.472,1446.71 824.706,1446.71 905.346,1446.71 989.907,1446.71 1077.94,1446.71 1169.02,1446.71 1262.77,1446.71 1314.99,1446.71 \n",
       "  1330.54,1446.71 1357.32,1446.7 1389.74,1446.7 1430.05,1446.69 1477.02,1446.67 1530.96,1446.63 1591.2,1446.54 1657.38,1446.31 1728.86,1445.71 1804.54,1444.09 \n",
       "  1879.49,1439.88 1956.65,1428.4 2038.47,1394.68 2122.48,1294.64 2208.85,988.636 2294.01,88.0053 \n",
       "  \"/>\n",
       "<polyline clip-path=\"url(#clip9802)\" style=\"stroke:#3da44d; stroke-width:4; stroke-opacity:1; fill:none\" points=\"\n",
       "  335.958,1446.71 336.184,1446.71 338.445,1446.71 352.984,1446.71 379.173,1446.71 411.326,1446.71 451.173,1446.71 497.795,1446.71 551.358,1446.71 611.272,1446.71 \n",
       "  677.16,1446.71 748.472,1446.71 824.706,1446.71 905.346,1446.71 989.907,1446.71 1077.94,1446.71 1169.02,1446.71 1262.77,1446.71 1314.99,1446.71 \n",
       "  1330.54,1446.71 1357.32,1446.71 1389.74,1446.71 1430.05,1446.71 1477.02,1446.71 1530.96,1446.71 1591.2,1446.71 1657.38,1446.71 1728.86,1446.71 1804.54,1446.71 \n",
       "  1879.49,1446.71 1956.65,1446.71 2038.47,1446.71 2122.48,1446.71 2208.85,1446.71 2294.01,1446.71 \n",
       "  \"/>\n",
       "<polyline clip-path=\"url(#clip9802)\" style=\"stroke:#c271d2; stroke-width:4; stroke-opacity:1; fill:none\" points=\"\n",
       "  335.958,1446.71 336.184,1446.71 338.445,1446.71 352.984,1446.71 379.173,1446.71 411.326,1446.71 451.173,1446.71 497.795,1446.71 551.358,1446.71 611.272,1446.71 \n",
       "  677.16,1446.71 748.472,1446.71 824.706,1446.71 905.346,1446.71 989.907,1446.71 1077.94,1446.71 1169.02,1446.71 1262.77,1446.71 1314.99,1446.71 \n",
       "  1330.54,1446.71 1357.32,1446.71 1389.74,1446.71 1430.05,1446.71 1477.02,1446.71 1530.96,1446.71 1591.2,1446.71 1657.38,1446.71 1728.86,1446.71 1804.54,1446.71 \n",
       "  1879.49,1446.71 1956.65,1446.71 2038.47,1446.71 2122.48,1446.71 2208.85,1446.71 2294.01,1446.71 \n",
       "  \"/>\n",
       "<polygon clip-path=\"url(#clip9800)\" points=\"\n",
       "1989.93,433.164 2280.76,433.164 2280.76,130.764 1989.93,130.764 \n",
       "  \" fill=\"#ffffff\" fill-rule=\"evenodd\" fill-opacity=\"1\"/>\n",
       "<polyline clip-path=\"url(#clip9800)\" style=\"stroke:#000000; stroke-width:4; stroke-opacity:1; fill:none\" points=\"\n",
       "  1989.93,433.164 2280.76,433.164 2280.76,130.764 1989.93,130.764 1989.93,433.164 \n",
       "  \"/>\n",
       "<polyline clip-path=\"url(#clip9800)\" style=\"stroke:#009af9; stroke-width:4; stroke-opacity:1; fill:none\" points=\"\n",
       "  2013.93,191.244 2157.93,191.244 \n",
       "  \"/>\n",
       "<g clip-path=\"url(#clip9800)\">\n",
       "<text style=\"fill:#000000; fill-opacity:1; font-family:Arial,Helvetica Neue,Helvetica,sans-serif; font-size:48px; text-anchor:start;\" transform=\"rotate(0, 2181.93, 208.744)\" x=\"2181.93\" y=\"208.744\">y1</text>\n",
       "</g>\n",
       "<polyline clip-path=\"url(#clip9800)\" style=\"stroke:#e26f46; stroke-width:4; stroke-opacity:1; fill:none\" points=\"\n",
       "  2013.93,251.724 2157.93,251.724 \n",
       "  \"/>\n",
       "<g clip-path=\"url(#clip9800)\">\n",
       "<text style=\"fill:#000000; fill-opacity:1; font-family:Arial,Helvetica Neue,Helvetica,sans-serif; font-size:48px; text-anchor:start;\" transform=\"rotate(0, 2181.93, 269.224)\" x=\"2181.93\" y=\"269.224\">y2</text>\n",
       "</g>\n",
       "<polyline clip-path=\"url(#clip9800)\" style=\"stroke:#3da44d; stroke-width:4; stroke-opacity:1; fill:none\" points=\"\n",
       "  2013.93,312.204 2157.93,312.204 \n",
       "  \"/>\n",
       "<g clip-path=\"url(#clip9800)\">\n",
       "<text style=\"fill:#000000; fill-opacity:1; font-family:Arial,Helvetica Neue,Helvetica,sans-serif; font-size:48px; text-anchor:start;\" transform=\"rotate(0, 2181.93, 329.704)\" x=\"2181.93\" y=\"329.704\">y3</text>\n",
       "</g>\n",
       "<polyline clip-path=\"url(#clip9800)\" style=\"stroke:#c271d2; stroke-width:4; stroke-opacity:1; fill:none\" points=\"\n",
       "  2013.93,372.684 2157.93,372.684 \n",
       "  \"/>\n",
       "<g clip-path=\"url(#clip9800)\">\n",
       "<text style=\"fill:#000000; fill-opacity:1; font-family:Arial,Helvetica Neue,Helvetica,sans-serif; font-size:48px; text-anchor:start;\" transform=\"rotate(0, 2181.93, 390.184)\" x=\"2181.93\" y=\"390.184\">y4</text>\n",
       "</g>\n",
       "</svg>\n"
      ]
     },
     "execution_count": 222,
     "metadata": {},
     "output_type": "execute_result"
    }
   ],
   "source": [
    "step!()\n",
    "plot(exp)"
   ]
  },
  {
   "cell_type": "code",
   "execution_count": 223,
   "metadata": {},
   "outputs": [
    {
     "data": {
      "text/plain": [
       "Experiment(Any[[10000.0, 100000.0, 100.0, 0.0], [10011.553604981478, 100289.09075560005, 99.94314769597065, 0.001731542187896872], [10127.826376843199, 103226.36467679133, 99.37642630729682, 0.018992091420136775], [10908.44876441905, 124281.81567372117, 95.80934153073213, 0.12763426260331712], [12469.518977319516, 173629.8938072347, 89.70868104672766, 0.313441170202949], [14694.808094155826, 261764.16900713212, 82.75576373466092, 0.5252051309257078], [18011.298698066053, 435374.4807179306, 74.89450810462236, 0.7646342014616072], [22853.41527280716, 789546.3965163247, 66.6569051026265, 1.0155255936970362], [30043.773024221013, 1.5645310947352874e6, 58.32751541462333, 1.2692124385580295], [40798.36505496753, 3.362021808558272e6, 50.26569257663875, 1.5147498426500432]  …  [6.08257328389954e6, 9.117690567580013e11, 5.493770258726469, 2.703022086109988], [8.52856832475106e6, 2.122532506265213e12, 4.872773154901064, 2.489096562938234], [1.2286253500043835e7, 5.286952902248734e12, 4.310046507560078, 1.8976930378019727], [1.80824687763585e7, 1.3892754403777652e13, 3.816284639717357, 0.25776960623326695], [2.6515300668360855e7, 3.6172233305662086e13, 3.4128000751836405, -4.014456750807093], [3.9322416914135836e7, 9.687719501757002e13, 3.0707027673225955, -15.67806872323535], [5.971886459482777e7, 2.7534513067974884e14, 2.77453902897328, -49.98980549544258], [9.171145088282456e7, 8.046927169376524e14, 2.52846530665243, -151.77992380925733], [1.4255682864468274e8, 2.4238590496893075e15, 2.3248894332338046, -463.15186476529124], [2.2022887810647509e8, 7.189439360747635e15, 2.163641998219491, -1379.6047062953758]], Any[0.0, 0.0011546947689231193, 0.012701642458154312, 0.0869526032207836, 0.22070233087968633, 0.3849095824404566, 0.5884148737856181, 0.8265165254544492, 1.100071828373725, 1.4060590106123174  …  6.410641211799882, 6.748641619260867, 7.11370939140112, 7.500181131301086, 7.8829711720584275, 8.277056597846842, 8.694924672013299, 9.123940799851418, 9.565053211889694, 10.0])"
      ]
     },
     "execution_count": 223,
     "metadata": {},
     "output_type": "execute_result"
    }
   ],
   "source": [
    "exp"
   ]
  },
  {
   "cell_type": "code",
   "execution_count": null,
   "metadata": {},
   "outputs": [],
   "source": []
  }
 ],
 "metadata": {
  "kernelspec": {
   "display_name": "Julia 1.2.0",
   "language": "julia",
   "name": "julia-1.2"
  },
  "language_info": {
   "file_extension": ".jl",
   "mimetype": "application/julia",
   "name": "julia",
   "version": "1.2.0"
  }
 },
 "nbformat": 4,
 "nbformat_minor": 2
}
